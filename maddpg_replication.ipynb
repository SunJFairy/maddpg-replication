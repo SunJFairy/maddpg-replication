{
  "nbformat": 4,
  "nbformat_minor": 0,
  "metadata": {
    "colab": {
      "name": "maddpg-replication.ipynb",
      "version": "0.3.2",
      "views": {},
      "default_view": {},
      "provenance": []
    },
    "kernelspec": {
      "name": "python3",
      "display_name": "Python 3"
    }
  },
  "cells": [
    {
      "metadata": {
        "id": "70J-exnSY2Ix",
        "colab_type": "code",
        "colab": {
          "autoexec": {
            "startup": false,
            "wait_interval": 0
          }
        }
      },
      "cell_type": "code",
      "source": [
        "import numpy as np\n",
        "import pickle"
      ],
      "execution_count": 0,
      "outputs": []
    },
    {
      "metadata": {
        "id": "3D8BJ9yba7Ox",
        "colab_type": "text"
      },
      "cell_type": "markdown",
      "source": [
        "# Success rate in physical deception\n",
        "\n",
        "Table 4 in (Lowe et al. 2018) lists success rates for the physical deception scenario (called \"simple_adversary\" in the code). We look at the last frame of an episode and say that the adversary succeeds if its distance from the goal is less than some threshold $\\varepsilon$, and the agents succeed if at least one of them is within $\\varepsilon$ distance of the goal.\n",
        "\n",
        "We compute success rate by averaging over ~1000 episodes using a model that's been trained for 30k episodes."
      ]
    },
    {
      "metadata": {
        "id": "bz7WWS1YZHQv",
        "colab_type": "code",
        "colab": {
          "autoexec": {
            "startup": false,
            "wait_interval": 0
          }
        }
      },
      "cell_type": "code",
      "source": [
        "file = open('experiments/simple_adversary/benchmark.pkl', 'rb')\n",
        "data = pickle.load(file)\n",
        "file.close()\n",
        "adversary = [e[0][-1][0] for e in data]\n",
        "agent = [min(e[0][-1][1][2], e[0][-1][2][2]) for e in data]\n",
        "\n",
        "def succ_helper(dd, e):\n",
        "  return len([d for d in dd if d < e**2]) * 1.0 / len(dd)\n",
        "\n",
        "def succ(e):\n",
        "  print(\"AG succ: %f     ADV succ: %f\" % (succ_helper(agent, e), succ_helper(adversary, e)))"
      ],
      "execution_count": 0,
      "outputs": []
    },
    {
      "metadata": {
        "id": "7WOlamMdc5rC",
        "colab_type": "text"
      },
      "cell_type": "markdown",
      "source": [
        "You can try various values of $\\varepsilon$."
      ]
    },
    {
      "metadata": {
        "id": "PO7AdtASZZw_",
        "colab_type": "code",
        "colab": {
          "autoexec": {
            "startup": false,
            "wait_interval": 0
          },
          "base_uri": "https://localhost:8080/",
          "height": 34
        },
        "outputId": "f33655e4-6c1b-4f56-b663-0791f9889fc3",
        "executionInfo": {
          "status": "ok",
          "timestamp": 1528864410907,
          "user_tz": 420,
          "elapsed": 60,
          "user": {
            "displayName": "Nisan Stiennon",
            "photoUrl": "//lh5.googleusercontent.com/-ix6-JtkX2zM/AAAAAAAAAAI/AAAAAAAAAHU/Igas13dFmCk/s50-c-k-no/photo.jpg",
            "userId": "103602873488134020614"
          }
        }
      },
      "cell_type": "code",
      "source": [
        "succ(0.4)"
      ],
      "execution_count": 8,
      "outputs": [
        {
          "output_type": "stream",
          "text": [
            "AG succ: 0.944167     ADV succ: 0.438684\n"
          ],
          "name": "stdout"
        }
      ]
    },
    {
      "metadata": {
        "id": "mOyG8jx5a1_R",
        "colab_type": "code",
        "colab": {
          "autoexec": {
            "startup": false,
            "wait_interval": 0
          }
        }
      },
      "cell_type": "code",
      "source": [
        ""
      ],
      "execution_count": 0,
      "outputs": []
    }
  ]
}