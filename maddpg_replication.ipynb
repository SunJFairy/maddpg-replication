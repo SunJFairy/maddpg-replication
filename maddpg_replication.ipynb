{
 "cells": [
  {
   "cell_type": "code",
   "execution_count": 1,
   "metadata": {
    "colab": {
     "autoexec": {
      "startup": false,
      "wait_interval": 0
     }
    },
    "colab_type": "code",
    "id": "70J-exnSY2Ix"
   },
   "outputs": [],
   "source": [
    "import matplotlib.pyplot as plt\n",
    "import numpy as np\n",
    "import pickle"
   ]
  },
  {
   "cell_type": "markdown",
   "metadata": {
    "colab_type": "text",
    "id": "3D8BJ9yba7Ox"
   },
   "source": [
    "# Success rate in physical deception\n",
    "\n",
    "Table 4 in (Lowe et al. 2018) lists success rates for the physical deception scenario (called \"simple_adversary\" in the code). We look at the last frame of an episode and say that the adversary succeeds if its distance from the goal is less than some threshold $\\varepsilon$, and the agents succeed if at least one of them is within $\\varepsilon$ distance of the goal.\n",
    "\n",
    "We compute success rate by averaging over ~1000 episodes using a model that's been trained for 60k episodes."
   ]
  },
  {
   "cell_type": "code",
   "execution_count": 2,
   "metadata": {
    "colab": {
     "autoexec": {
      "startup": false,
      "wait_interval": 0
     }
    },
    "colab_type": "code",
    "id": "bz7WWS1YZHQv"
   },
   "outputs": [],
   "source": [
    "file = open('experiments/simple_adversary/benchmark.pkl', 'rb')\n",
    "data = pickle.load(file)\n",
    "file.close()\n",
    "adversary = [e[0][-1][0] for e in data]\n",
    "agent = [min(e[0][-1][1][2], e[0][-1][2][2]) for e in data]\n",
    "\n",
    "def succ_helper(dd, e):\n",
    "  return len([d for d in dd if d < e**2]) * 1.0 / len(dd)\n",
    "\n",
    "def succ(e):\n",
    "  print(\"AG succ: %f     ADV succ: %f\" % (succ_helper(agent, e), succ_helper(adversary, e)))"
   ]
  },
  {
   "cell_type": "markdown",
   "metadata": {
    "colab_type": "text",
    "id": "7WOlamMdc5rC"
   },
   "source": [
    "You can try various values of $\\varepsilon$."
   ]
  },
  {
   "cell_type": "code",
   "execution_count": null,
   "metadata": {
    "colab": {
     "autoexec": {
      "startup": false,
      "wait_interval": 0
     },
     "base_uri": "https://localhost:8080/",
     "height": 34
    },
    "colab_type": "code",
    "executionInfo": {
     "elapsed": 60,
     "status": "ok",
     "timestamp": 1528864410907,
     "user": {
      "displayName": "Nisan Stiennon",
      "photoUrl": "//lh5.googleusercontent.com/-ix6-JtkX2zM/AAAAAAAAAAI/AAAAAAAAAHU/Igas13dFmCk/s50-c-k-no/photo.jpg",
      "userId": "103602873488134020614"
     },
     "user_tz": 420
    },
    "id": "PO7AdtASZZw_",
    "outputId": "f33655e4-6c1b-4f56-b663-0791f9889fc3"
   },
   "outputs": [],
   "source": [
    "succ(0.3)"
   ]
  },
  {
   "cell_type": "markdown",
   "metadata": {},
   "source": [
    "Graph of various values of $\\varepsilon$:"
   ]
  },
  {
   "cell_type": "code",
   "execution_count": 10,
   "metadata": {
    "colab": {
     "autoexec": {
      "startup": false,
      "wait_interval": 0
     }
    },
    "colab_type": "code",
    "id": "mOyG8jx5a1_R"
   },
   "outputs": [
    {
     "data": {
      "text/plain": [
       "[<matplotlib.lines.Line2D at 0x7f1562e7cf98>]"
      ]
     },
     "execution_count": 10,
     "metadata": {},
     "output_type": "execute_result"
    },
    {
     "data": {
      "image/png": "[encoded data removed]",
      "text/plain": [
       "<Figure size 432x288 with 1 Axes>"
      ]
     },
     "metadata": {},
     "output_type": "display_data"
    }
   ],
   "source": [
    "x = np.arange(.1, 1, .05)\n",
    "y = [succ_helper(agent, x_) for x_ in x]\n",
    "z = [succ_helper(adversary, x_) for x_ in x]\n",
    "plt.plot(x, y, 'b')\n",
    "plt.plot(x, z, 'r', linestyle='dashed')"
   ]
  },
  {
   "cell_type": "code",
   "execution_count": null,
   "metadata": {},
   "outputs": [],
   "source": []
  }
 ],
 "metadata": {
  "colab": {
   "default_view": {},
   "name": "maddpg-replication.ipynb",
   "provenance": [],
   "version": "0.3.2",
   "views": {}
  },
  "kernelspec": {
   "display_name": "Python 3",
   "language": "python",
   "name": "python3"
  },
  "language_info": {
   "codemirror_mode": {
    "name": "ipython",
    "version": 3
   },
   "file_extension": ".py",
   "mimetype": "text/x-python",
   "name": "python",
   "nbconvert_exporter": "python",
   "pygments_lexer": "ipython3",
   "version": "3.5.3"
  }
 },
 "nbformat": 4,
 "nbformat_minor": 1
}
